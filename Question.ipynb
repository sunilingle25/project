{
 "cells": [
  {
   "cell_type": "markdown",
   "id": "2e052e07",
   "metadata": {},
   "source": [
    "###  python quizs"
   ]
  },
  {
   "cell_type": "code",
   "execution_count": 3,
   "id": "bef2172b",
   "metadata": {},
   "outputs": [],
   "source": [
    "n=11\n",
    "for i in range(n):\n",
    "    n=n//2\n",
    "    "
   ]
  },
  {
   "cell_type": "code",
   "execution_count": 4,
   "id": "ee6cc0b7",
   "metadata": {},
   "outputs": [
    {
     "data": {
      "text/plain": [
       "0"
      ]
     },
     "execution_count": 4,
     "metadata": {},
     "output_type": "execute_result"
    }
   ],
   "source": [
    "n"
   ]
  },
  {
   "cell_type": "code",
   "execution_count": 7,
   "id": "38ae543d",
   "metadata": {},
   "outputs": [],
   "source": [
    "n=11\n",
    "for idx in range(n):\n",
    "    n=n//2"
   ]
  },
  {
   "cell_type": "code",
   "execution_count": 8,
   "id": "77238e8a",
   "metadata": {},
   "outputs": [
    {
     "data": {
      "text/plain": [
       "0"
      ]
     },
     "execution_count": 8,
     "metadata": {},
     "output_type": "execute_result"
    }
   ],
   "source": [
    "n"
   ]
  },
  {
   "cell_type": "code",
   "execution_count": 16,
   "id": "92847273",
   "metadata": {},
   "outputs": [
    {
     "data": {
      "text/plain": [
       "[1,\n",
       " 3,\n",
       " 5,\n",
       " 7,\n",
       " 9,\n",
       " 11,\n",
       " 13,\n",
       " 15,\n",
       " 17,\n",
       " 19,\n",
       " 21,\n",
       " 23,\n",
       " 25,\n",
       " 27,\n",
       " 29,\n",
       " 31,\n",
       " 33,\n",
       " 35,\n",
       " 37,\n",
       " 39,\n",
       " 41,\n",
       " 43,\n",
       " 45,\n",
       " 47,\n",
       " 49,\n",
       " 51,\n",
       " 53,\n",
       " 55,\n",
       " 57,\n",
       " 59,\n",
       " 61,\n",
       " 63,\n",
       " 65,\n",
       " 67,\n",
       " 69,\n",
       " 71,\n",
       " 73,\n",
       " 75,\n",
       " 77,\n",
       " 79,\n",
       " 81,\n",
       " 83,\n",
       " 85,\n",
       " 87,\n",
       " 89,\n",
       " 91,\n",
       " 93,\n",
       " 95,\n",
       " 97,\n",
       " 99]"
      ]
     },
     "execution_count": 16,
     "metadata": {},
     "output_type": "execute_result"
    }
   ],
   "source": [
    "#i=100\n",
    "[i for i in range(0,100)if i%2==1]\n",
    "#print(i)"
   ]
  },
  {
   "cell_type": "code",
   "execution_count": 8,
   "id": "297e80ee",
   "metadata": {},
   "outputs": [
    {
     "data": {
      "text/plain": [
       "99"
      ]
     },
     "execution_count": 8,
     "metadata": {},
     "output_type": "execute_result"
    }
   ],
   "source": [
    "i"
   ]
  },
  {
   "cell_type": "code",
   "execution_count": 17,
   "id": "03a324cb",
   "metadata": {},
   "outputs": [
    {
     "ename": "IndentationError",
     "evalue": "expected an indented block (4002438651.py, line 2)",
     "output_type": "error",
     "traceback": [
      "\u001b[1;36m  File \u001b[1;32m\"C:\\Users\\Hp\\AppData\\Local\\Temp\\ipykernel_7028\\4002438651.py\"\u001b[1;36m, line \u001b[1;32m2\u001b[0m\n\u001b[1;33m    def func_wrapper(name):\u001b[0m\n\u001b[1;37m    ^\u001b[0m\n\u001b[1;31mIndentationError\u001b[0m\u001b[1;31m:\u001b[0m expected an indented block\n"
     ]
    }
   ],
   "source": [
    "def paragraph_wrap(func):\n",
    "def func_wrapper(name):\n",
    "return \"<p>{0}</p>\".format(func(name))\n",
    "return func_wrapper\n",
    "@paragraph_wrap\n",
    "def get_text(name):\n",
    "return \"lorem ipsum,{0} dolor sit amet\".format(name)\n",
    "print get_text(\"John\")"
   ]
  },
  {
   "cell_type": "code",
   "execution_count": 23,
   "id": "c61d3cf5",
   "metadata": {},
   "outputs": [
    {
     "ename": "SyntaxError",
     "evalue": "invalid syntax (1821755549.py, line 8)",
     "output_type": "error",
     "traceback": [
      "\u001b[1;36m  File \u001b[1;32m\"C:\\Users\\Hp\\AppData\\Local\\Temp\\ipykernel_7028\\1821755549.py\"\u001b[1;36m, line \u001b[1;32m8\u001b[0m\n\u001b[1;33m    print get_text(\"SUNIL\")\u001b[0m\n\u001b[1;37m          ^\u001b[0m\n\u001b[1;31mSyntaxError\u001b[0m\u001b[1;31m:\u001b[0m invalid syntax\n"
     ]
    }
   ],
   "source": [
    "def para_wrap(func):\n",
    "    def fun_wrap(name):\n",
    "        return\"<p>{0}</p>\".format(func(name))\n",
    "    return func_wrap\n",
    "@para_wrap\n",
    "def get_text(name):\n",
    "    return \"lorem ipsum,{0} dolor sit ametrmat(name)\n",
    "                                                                                                                                                                                       "
   ]
  },
  {
   "cell_type": "code",
   "execution_count": 84,
   "id": "0f1f2263",
   "metadata": {},
   "outputs": [
    {
     "ename": "SyntaxError",
     "evalue": "invalid syntax (1339264316.py, line 8)",
     "output_type": "error",
     "traceback": [
      "\u001b[1;36m  File \u001b[1;32m\"C:\\Users\\Hp\\AppData\\Local\\Temp\\ipykernel_7632\\1339264316.py\"\u001b[1;36m, line \u001b[1;32m8\u001b[0m\n\u001b[1;33m    print get_text(\"Sunil\")\u001b[0m\n\u001b[1;37m          ^\u001b[0m\n\u001b[1;31mSyntaxError\u001b[0m\u001b[1;31m:\u001b[0m invalid syntax\n"
     ]
    }
   ],
   "source": [
    "def para_wrap(func):\n",
    "    def fun_wrap(name):\n",
    "        return\"<p>{0}</p>\".format(func(name))\n",
    "    return func_wrap\n",
    "@para_wrap\n",
    "def get_text(name):\n",
    "    return \"lorem ipsum,{0} dolor sit amet\".format(name)\n",
    "print get_text(\"Sunil\")"
   ]
  },
  {
   "cell_type": "code",
   "execution_count": 85,
   "id": "de85b76c",
   "metadata": {},
   "outputs": [],
   "source": [
    "lst = [1, 2, 3, 4, 4, 6, 7, 3, 4, 5, 2, 7]"
   ]
  },
  {
   "cell_type": "code",
   "execution_count": 86,
   "id": "b073ac0d",
   "metadata": {},
   "outputs": [
    {
     "data": {
      "text/plain": [
       "[1, 2, 3, 4, 4, 6, 7, 3, 4, 5, 2, 7]"
      ]
     },
     "execution_count": 86,
     "metadata": {},
     "output_type": "execute_result"
    }
   ],
   "source": [
    "lst"
   ]
  },
  {
   "cell_type": "code",
   "execution_count": 87,
   "id": "c4bb7e7a",
   "metadata": {},
   "outputs": [
    {
     "data": {
      "text/plain": [
       "{1, 2, 3, 4, 5, 6, 7}"
      ]
     },
     "execution_count": 87,
     "metadata": {},
     "output_type": "execute_result"
    }
   ],
   "source": [
    "set(lst)"
   ]
  },
  {
   "cell_type": "code",
   "execution_count": 1,
   "id": "f08730bc",
   "metadata": {},
   "outputs": [
    {
     "ename": "SyntaxError",
     "evalue": "invalid syntax (958307310.py, line 1)",
     "output_type": "error",
     "traceback": [
      "\u001b[1;36m  File \u001b[1;32m\"C:\\Users\\Hp\\AppData\\Local\\Temp\\ipykernel_17044\\958307310.py\"\u001b[1;36m, line \u001b[1;32m1\u001b[0m\n\u001b[1;33m    fuunc=lambda x: return x\u001b[0m\n\u001b[1;37m                    ^\u001b[0m\n\u001b[1;31mSyntaxError\u001b[0m\u001b[1;31m:\u001b[0m invalid syntax\n"
     ]
    }
   ],
   "source": [
    "fuunc=lambda x: return x \n",
    "print(func(2))\n",
    "\n",
    "###---------------EXPLANATION-------###\n",
    "\n",
    "\n",
    "----[lambda function cant contain the return statement \n",
    "    in lambda function ,statement like returns,pass,\n",
    "    assert,or raise will raise a SyntaxError exception]"
   ]
  },
  {
   "cell_type": "code",
   "execution_count": 3,
   "id": "5019f05d",
   "metadata": {},
   "outputs": [
    {
     "name": "stdout",
     "output_type": "stream",
     "text": [
      "2\n"
     ]
    }
   ],
   "source": [
    "func = lambda x:x\n",
    "print(func(2))"
   ]
  },
  {
   "cell_type": "code",
   "execution_count": 4,
   "id": "93d1db51",
   "metadata": {},
   "outputs": [
    {
     "data": {
      "text/plain": [
       "15.0"
      ]
     },
     "execution_count": 4,
     "metadata": {},
     "output_type": "execute_result"
    }
   ],
   "source": [
    "(lambda x:(x+3) * 5/2)(3)"
   ]
  },
  {
   "cell_type": "code",
   "execution_count": 5,
   "id": "2ff0d5f2",
   "metadata": {},
   "outputs": [],
   "source": [
    "my_list = ['Real','Python']\n"
   ]
  },
  {
   "cell_type": "code",
   "execution_count": 6,
   "id": "23971fb9",
   "metadata": {},
   "outputs": [],
   "source": [
    "def func(x):\n",
    "    return ''.join(x)"
   ]
  },
  {
   "cell_type": "code",
   "execution_count": 9,
   "id": "bc762606",
   "metadata": {},
   "outputs": [
    {
     "data": {
      "text/plain": [
       "'Real'"
      ]
     },
     "execution_count": 9,
     "metadata": {},
     "output_type": "execute_result"
    }
   ],
   "source": [
    "func('Real')"
   ]
  },
  {
   "cell_type": "code",
   "execution_count": 18,
   "id": "ed1fe588",
   "metadata": {},
   "outputs": [
    {
     "name": "stdout",
     "output_type": "stream",
     "text": [
      "['Real', 'Python']\n"
     ]
    }
   ],
   "source": [
    "my_list=list(map(lambda x : x,my_list))\n",
    "\n",
    "print(my_list)"
   ]
  },
  {
   "cell_type": "code",
   "execution_count": 34,
   "id": "c3d1d615",
   "metadata": {},
   "outputs": [
    {
     "name": "stdout",
     "output_type": "stream",
     "text": [
      "[<built-in method join of str object at 0x0000021750384670>, <built-in method join of str object at 0x0000021750384670>, <built-in method join of str object at 0x0000021750384670>]\n"
     ]
    }
   ],
   "source": [
    "C=6\n",
    "B=6\n",
    "A=2\n",
    "x=(A,B,C)\n",
    "x=list(map((lambda x:''.join),x))\n",
    "print(x)"
   ]
  },
  {
   "cell_type": "code",
   "execution_count": 35,
   "id": "2afa9297",
   "metadata": {},
   "outputs": [
    {
     "data": {
      "text/plain": [
       "6"
      ]
     },
     "execution_count": 35,
     "metadata": {},
     "output_type": "execute_result"
    }
   ],
   "source": [
    "from functools import reduce\n",
    "numbers = [1,2,3]\n",
    "reduce(lambda x,y: x + y, numbers)"
   ]
  },
  {
   "cell_type": "code",
   "execution_count": 40,
   "id": "5f75fbb6",
   "metadata": {},
   "outputs": [
    {
     "data": {
      "text/plain": [
       "[2]"
      ]
     },
     "execution_count": 40,
     "metadata": {},
     "output_type": "execute_result"
    }
   ],
   "source": [
    "numbers=[1,2,3]\n",
    "#list(filter(lambda x: x>1,numbers))\n",
    "#list(filter(lambda x: 2,numbers))\n",
    "list(filter(lambda x: x%2==0,numbers))"
   ]
  },
  {
   "cell_type": "markdown",
   "id": "a9108588",
   "metadata": {},
   "source": [
    "### Python program to calculate the sum of all numbers from 1 to a given number."
   ]
  },
  {
   "cell_type": "code",
   "execution_count": 16,
   "id": "91e3028a",
   "metadata": {},
   "outputs": [
    {
     "name": "stdout",
     "output_type": "stream",
     "text": [
      "45\n"
     ]
    }
   ],
   "source": [
    "n=10\n",
    "sum=0\n",
    "for i in range(1,n):\n",
    "    sum +=i\n",
    "print(sum)"
   ]
  },
  {
   "cell_type": "markdown",
   "id": "6d279149",
   "metadata": {},
   "source": [
    "### Python program to calculate the sum of all the odd numbers within the given range.\n"
   ]
  },
  {
   "cell_type": "code",
   "execution_count": 13,
   "id": "9ab5eb89",
   "metadata": {},
   "outputs": [
    {
     "name": "stdout",
     "output_type": "stream",
     "text": [
      "25\n"
     ]
    }
   ],
   "source": [
    "n=10\n",
    "sum=0\n",
    "for i in range(n):\n",
    "    if i%2!=0:\n",
    "        sum+=i\n",
    "print(sum)"
   ]
  },
  {
   "cell_type": "markdown",
   "id": "491d5843",
   "metadata": {},
   "source": [
    "###  Python program to print a multiplication table of a given number."
   ]
  },
  {
   "cell_type": "code",
   "execution_count": 30,
   "id": "f04fa0cb",
   "metadata": {},
   "outputs": [
    {
     "name": "stdout",
     "output_type": "stream",
     "text": [
      "6 x 0 = 0\n",
      "6 x 1 = 5\n",
      "6 x 2 = 10\n",
      "6 x 3 = 15\n",
      "6 x 4 = 20\n",
      "6 x 5 = 25\n",
      "6 x 6 = 30\n",
      "6 x 7 = 35\n",
      "6 x 8 = 40\n",
      "6 x 9 = 45\n",
      "6 x 10 = 50\n",
      "End Of Table\n"
     ]
    }
   ],
   "source": [
    "given_number=6\n",
    "for i in range(11):\n",
    "    print(given_number,\"x\",i,\"=\",5*i)\n",
    "       \n",
    "print(\"End Of Table\")"
   ]
  },
  {
   "cell_type": "markdown",
   "id": "59ab588f",
   "metadata": {},
   "source": [
    "### Python program to display numbers from a list using a for loop."
   ]
  },
  {
   "cell_type": "code",
   "execution_count": 35,
   "id": "987e9bd3",
   "metadata": {},
   "outputs": [
    {
     "name": "stdout",
     "output_type": "stream",
     "text": [
      "1 2 3 4 5 6 7 8 9 10 "
     ]
    }
   ],
   "source": [
    "list=[1,2,3,4,5,6,7,8,9,10]\n",
    "for i in list:\n",
    "    print(i,end=\" \")"
   ]
  },
  {
   "cell_type": "markdown",
   "id": "712627b4",
   "metadata": {},
   "source": [
    "### Python program to count the total number of digits in a number."
   ]
  },
  {
   "cell_type": "code",
   "execution_count": 8,
   "id": "2087cea4",
   "metadata": {},
   "outputs": [
    {
     "name": "stdout",
     "output_type": "stream",
     "text": [
      "17\n"
     ]
    }
   ],
   "source": [
    "number=12432424366575587\n",
    "number=str(number)\n",
    "count=0\n",
    "for i in number:\n",
    "    count+=1\n",
    "print(count)"
   ]
  },
  {
   "cell_type": "code",
   "execution_count": null,
   "id": "6fe9e4c8",
   "metadata": {},
   "outputs": [],
   "source": []
  }
 ],
 "metadata": {
  "kernelspec": {
   "display_name": "Python 3 (ipykernel)",
   "language": "python",
   "name": "python3"
  },
  "language_info": {
   "codemirror_mode": {
    "name": "ipython",
    "version": 3
   },
   "file_extension": ".py",
   "mimetype": "text/x-python",
   "name": "python",
   "nbconvert_exporter": "python",
   "pygments_lexer": "ipython3",
   "version": "3.9.13"
  }
 },
 "nbformat": 4,
 "nbformat_minor": 5
}
